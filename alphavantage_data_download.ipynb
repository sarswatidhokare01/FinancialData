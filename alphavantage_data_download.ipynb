{
 "cells": [
  {
   "cell_type": "code",
   "execution_count": 6,
   "id": "9a9552e3",
   "metadata": {},
   "outputs": [],
   "source": [
    "import json\n",
    "import requests\n",
    "import pandas as pd"
   ]
  },
  {
   "cell_type": "code",
   "execution_count": 29,
   "id": "4328c3c3",
   "metadata": {},
   "outputs": [],
   "source": [
    "# Define API URL\n",
    "url = 'https://www.alphavantage.co/query?function=TIME_SERIES_INTRADAY&symbol=IBM&interval=5min&apikey=RQ4M3O56YUOUQUBH&datatype='"
   ]
  },
  {
   "cell_type": "code",
   "execution_count": 47,
   "id": "6cf1ea4f",
   "metadata": {},
   "outputs": [],
   "source": [
    "def download_api_data(url, output_format):\n",
    "    complete_url = url + output_format\n",
    "    response = requests.get(complete_url)\n",
    "    \n",
    "    if response.status_code == 200:        \n",
    "        # Save the DataFrame as a JSON file\n",
    "        if output_format == 'json':\n",
    "            data_json = response.json()\n",
    "            df = pd.DataFrame(data_json)\n",
    "            df.to_json('data.json')\n",
    "            print(\"Data saved to data.json\")\n",
    "            \n",
    "        elif output_format == 'csv':\n",
    "            df = pd.read_csv(url + output_format)\n",
    "            df.to_csv(\"data.csv\", index=False)\n",
    "            print(\"Data saved to data.csv\")\n",
    "            \n",
    "    else:\n",
    "        print('Error', response.status_code)"
   ]
  },
  {
   "cell_type": "code",
   "execution_count": 57,
   "id": "12f3faf7",
   "metadata": {},
   "outputs": [],
   "source": [
    "def download_api_data(url, output_format):\n",
    "    complete_url = url + output_format\n",
    "    \n",
    "    # Save the DataFrame as a JSON file\n",
    "    if output_format == 'json':\n",
    "        data_df = pd.read_json(complete_url)\n",
    "        data_df.to_json('data.json')\n",
    "        print(\"Data saved to data.json\")\n",
    "\n",
    "    elif output_format == 'csv':\n",
    "        data_df = pd.read_csv(complete_url)\n",
    "        data_df.to_csv(\"data.csv\", index=False)\n",
    "        print(\"Data saved to data.csv\")\n",
    "            \n",
    "    else:\n",
    "        print('Error', response.status_code)"
   ]
  },
  {
   "cell_type": "code",
   "execution_count": 59,
   "id": "e6ced7e5",
   "metadata": {},
   "outputs": [
    {
     "name": "stdout",
     "output_type": "stream",
     "text": [
      "Data saved to data.csv\n"
     ]
    }
   ],
   "source": [
    "if __name__ == \"__main__\":\n",
    "#     data_to_csv()\n",
    "    download_api_data(url, 'csv')"
   ]
  },
  {
   "cell_type": "code",
   "execution_count": null,
   "id": "0ef986a3",
   "metadata": {},
   "outputs": [],
   "source": []
  }
 ],
 "metadata": {
  "kernelspec": {
   "display_name": "Python 3 (ipykernel)",
   "language": "python",
   "name": "python3"
  },
  "language_info": {
   "codemirror_mode": {
    "name": "ipython",
    "version": 3
   },
   "file_extension": ".py",
   "mimetype": "text/x-python",
   "name": "python",
   "nbconvert_exporter": "python",
   "pygments_lexer": "ipython3",
   "version": "3.10.0"
  }
 },
 "nbformat": 4,
 "nbformat_minor": 5
}
